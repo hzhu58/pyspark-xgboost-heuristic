{
 "cells": [
  {
   "cell_type": "code",
   "execution_count": 3,
   "metadata": {},
   "outputs": [],
   "source": [
    "# sudo pip install geoip2\n",
    "# http://geoip2.readthedocs.io/en/latest/#city-database\n",
    "import geoip2.database"
   ]
  },
  {
   "cell_type": "code",
   "execution_count": 7,
   "metadata": {},
   "outputs": [],
   "source": [
    "def get_geo_info(ip_address):\n",
    "    reader = geoip2.database.Reader('GeoLite2-City.mmdb')\n",
    "    response = reader.city(ip_address)\n",
    "    print(\"-----------------\")\n",
    "    print(response)\n",
    "    print(\"-----------------\")\n",
    "    return response.country.iso_code, response.country.name, response.city.name"
   ]
  },
  {
   "cell_type": "code",
   "execution_count": 8,
   "metadata": {},
   "outputs": [
    {
     "name": "stdout",
     "output_type": "stream",
     "text": [
      "-----------------\n",
      "geoip2.models.City({'city': {'geoname_id': 2925533, 'names': {'de': 'Frankfurt am Main', 'en': 'Frankfurt am Main', 'es': 'Francfort', 'fr': 'Francfort-sur-le-Main', 'ja': 'フランクフルト・アム・マイン', 'pt-BR': 'Frankfurt am Main', 'ru': 'Франкфурт-на-Майне', 'zh-CN': '法兰克福'}}, 'continent': {'code': 'EU', 'geoname_id': 6255148, 'names': {'de': 'Europa', 'en': 'Europe', 'es': 'Europa', 'fr': 'Europe', 'ja': 'ヨーロッパ', 'pt-BR': 'Europa', 'ru': 'Европа', 'zh-CN': '欧洲'}}, 'country': {'geoname_id': 2921044, 'is_in_european_union': True, 'iso_code': 'DE', 'names': {'de': 'Deutschland', 'en': 'Germany', 'es': 'Alemania', 'fr': 'Allemagne', 'ja': 'ドイツ連邦共和国', 'pt-BR': 'Alemanha', 'ru': 'Германия', 'zh-CN': '德国'}}, 'location': {'accuracy_radius': 200, 'latitude': 50.1137, 'longitude': 8.7119, 'time_zone': 'Europe/Berlin'}, 'postal': {'code': '60314'}, 'registered_country': {'geoname_id': 2921044, 'is_in_european_union': True, 'iso_code': 'DE', 'names': {'de': 'Deutschland', 'en': 'Germany', 'es': 'Alemania', 'fr': 'Allemagne', 'ja': 'ドイツ連邦共和国', 'pt-BR': 'Alemanha', 'ru': 'Германия', 'zh-CN': '德国'}}, 'subdivisions': [{'geoname_id': 2905330, 'iso_code': 'HE', 'names': {'de': 'Hessen', 'en': 'Hesse', 'es': 'Hessen', 'fr': 'Hesse', 'ru': 'Гессен'}}], 'traits': {'ip_address': '80.240.18.62'}}, ['en'])\n",
      "-----------------\n"
     ]
    }
   ],
   "source": [
    "iso_code, country_name, city_name = get_geo_info(\"80.240.18.62\")"
   ]
  },
  {
   "cell_type": "code",
   "execution_count": 9,
   "metadata": {},
   "outputs": [
    {
     "name": "stdout",
     "output_type": "stream",
     "text": [
      "DE\n",
      "Germany\n",
      "Frankfurt am Main\n"
     ]
    }
   ],
   "source": [
    "print(iso_code)\n",
    "print(country_name)\n",
    "print(city_name)"
   ]
  },
  {
   "cell_type": "code",
   "execution_count": null,
   "metadata": {},
   "outputs": [],
   "source": []
  }
 ],
 "metadata": {
  "kernelspec": {
   "display_name": "Python 3",
   "language": "python",
   "name": "python3"
  },
  "language_info": {
   "codemirror_mode": {
    "name": "ipython",
    "version": 3
   },
   "file_extension": ".py",
   "mimetype": "text/x-python",
   "name": "python",
   "nbconvert_exporter": "python",
   "pygments_lexer": "ipython3",
   "version": "3.6.4"
  }
 },
 "nbformat": 4,
 "nbformat_minor": 2
}
